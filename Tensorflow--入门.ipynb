{
 "cells": [
  {
   "cell_type": "markdown",
   "metadata": {},
   "source": [
    "# 计算图"
   ]
  },
  {
   "cell_type": "code",
   "execution_count": 1,
   "metadata": {
    "collapsed": true
   },
   "outputs": [],
   "source": [
    "import tensorflow as tf"
   ]
  },
  {
   "cell_type": "code",
   "execution_count": 2,
   "metadata": {
    "collapsed": true
   },
   "outputs": [],
   "source": [
    "a = tf.constant([1.0,2.0],name=\"a\")\n",
    "b = tf.constant([2.0,3.0],name=\"b\")\n",
    "result = a+b"
   ]
  },
  {
   "cell_type": "code",
   "execution_count": 4,
   "metadata": {
    "collapsed": false
   },
   "outputs": [
    {
     "name": "stdout",
     "output_type": "stream",
     "text": [
      "True\n"
     ]
    }
   ],
   "source": [
    "#tf.get_default_graph()获取当前默认的计算图\n",
    "#可以通过a.graph查看张量所属的计算图。因为没有指定所以这个计算图应该等于当前默认的计算图。\n",
    "print(a.graph is tf.get_default_graph())"
   ]
  },
  {
   "cell_type": "code",
   "execution_count": 6,
   "metadata": {
    "collapsed": false
   },
   "outputs": [
    {
     "name": "stdout",
     "output_type": "stream",
     "text": [
      "[ 0.]\n",
      "[ 1.]\n"
     ]
    }
   ],
   "source": [
    "#tf.Graph()来生成新的计算图，不同计算图上的张量和运算都不会共享\n",
    "g1 = tf.Graph()\n",
    "with g1.as_default():\n",
    "    #在计算图g1中定义变量‘v’，并设置初始值为0.\n",
    "    v = tf.get_variable(\"v\",shape=[1],initializer = tf.zeros_initializer)\n",
    "    \n",
    "g2 = tf.Graph()\n",
    "with g2.as_default():\n",
    "    #在计算图g1中定义变量‘v’，并设置初始值为1.\n",
    "    v = tf.get_variable(\"v\",shape=[1],initializer = tf.ones_initializer)\n",
    "    \n",
    "with tf.Session(graph = g1) as sess:\n",
    "    tf.global_variables_initializer().run()\n",
    "    with tf.variable_scope(\"\",reuse=True):\n",
    "        #在计算图g1中，变量‘v’的取值应该为0，所以下面会输出[0.]\n",
    "        print(sess.run(tf.get_variable(\"v\")))\n",
    "with tf.Session(graph = g2) as sess:\n",
    "    tf.global_variables_initializer().run()\n",
    "    with tf.variable_scope(\"\",reuse=True):\n",
    "        #在计算图g2中，变量‘v’的取值应该为1，所以下面会输出[0=1.]\n",
    "        print(sess.run(tf.get_variable(\"v\")))\n",
    "\n",
    "    "
   ]
  },
  {
   "cell_type": "code",
   "execution_count": 7,
   "metadata": {
    "collapsed": true
   },
   "outputs": [],
   "source": [
    "#tf.Graph.device()用来指定运行计算的设备\n",
    "g = tf.Graph()\n",
    "#指定计算运行的装备\n",
    "with g.device('/gpu:0'):\n",
    "    result = a+b"
   ]
  },
  {
   "cell_type": "markdown",
   "metadata": {},
   "source": [
    "# 张量"
   ]
  },
  {
   "cell_type": "code",
   "execution_count": 8,
   "metadata": {
    "collapsed": false
   },
   "outputs": [
    {
     "name": "stdout",
     "output_type": "stream",
     "text": [
      "Tensor(\"add_2:0\", shape=(2,), dtype=float32)\n"
     ]
    }
   ],
   "source": [
    "#tf.constant()是一个计算，这个计算结果为一个张量，保存在变量a\n",
    "a = tf.constant([1.0,2.0],name = \"a\")\n",
    "b = tf.constant([2.0,3.0],name = \"b\")\n",
    "result = tf.add(a,b,name = \"add\")\n",
    "print(result)"
   ]
  },
  {
   "cell_type": "markdown",
   "metadata": {},
   "source": [
    "TersorFlow计算结果不是一个具体的数字，而是一个张量的结构。\n",
    "- 张量结构保存了三个属性：名字；维度；类型。\n",
    "- 其中张量的命名是通过\"node:src_output\"的形式给出。node是节点的名称，src_output表示当前张量来自节点的第几个输出。\n",
    "- shape给出计算结果的维度\n",
    "- type表示类型，参与运算的张量必须类型匹配，否则会报错"
   ]
  },
  {
   "cell_type": "code",
   "execution_count": 11,
   "metadata": {
    "collapsed": false
   },
   "outputs": [],
   "source": [
    "#类型不匹配报错\n",
    "#a = tf.constant([1,2],name=\"a\")\n",
    "a = tf.constant([1,2],name = \"a\",dtype=tf.float32)#可以指定类型\n",
    "b = tf.constant([2.0,3.0],name = \"b\")\n",
    "result = a+b"
   ]
  },
  {
   "cell_type": "markdown",
   "metadata": {},
   "source": [
    "## 张量的使用"
   ]
  },
  {
   "cell_type": "code",
   "execution_count": 14,
   "metadata": {
    "collapsed": false
   },
   "outputs": [
    {
     "name": "stdout",
     "output_type": "stream",
     "text": [
      "Tensor(\"add_7:0\", shape=(2,), dtype=float32)\n",
      "Tensor(\"add_8:0\", shape=(2,), dtype=float32)\n"
     ]
    }
   ],
   "source": [
    "#使用张量计算中间结果\n",
    "a = tf.constant([1.0,2.0],name=\"a\")\n",
    "b = tf.constant([2.0,3.0],name=\"b\")\n",
    "result = a+b\n",
    "print(result)\n",
    "#直接计算向量的和\n",
    "result = tf.constant([1.0,2.0],name=\"a\")+\\\n",
    "tf.constant([2.0,3.0],name=\"b\")\n",
    "print(result)"
   ]
  },
  {
   "cell_type": "markdown",
   "metadata": {},
   "source": [
    "# TensorFlow 运行模型——会话\n",
    "## 创建会话的两种方式,所有的计算完成后都必须关闭会话。"
   ]
  },
  {
   "cell_type": "code",
   "execution_count": 24,
   "metadata": {
    "collapsed": false
   },
   "outputs": [
    {
     "name": "stdout",
     "output_type": "stream",
     "text": [
      "[ 3.  5.]\n"
     ]
    }
   ],
   "source": [
    "#创建一个会话\n",
    "sess = tf.Session()\n",
    "#使用这个创建好的会话得到关心的运算的结果。\n",
    "print(sess.run(result))\n",
    "#关闭会话使得本次运行的资源被释放\n",
    "sess.close()"
   ]
  },
  {
   "cell_type": "code",
   "execution_count": 25,
   "metadata": {
    "collapsed": false
   },
   "outputs": [
    {
     "name": "stdout",
     "output_type": "stream",
     "text": [
      "[ 3.  5.]\n"
     ]
    }
   ],
   "source": [
    "# 创建一个会话，并通过Python的上下文管理器来管理这个会话\n",
    "with tf.Session() as sess:\n",
    "    print(sess.run(result))\n",
    "#不需要调用“Session.close()”函数来关闭会话，当上下文退出会话,关闭和资源释放就自动完成了\n"
   ]
  },
  {
   "cell_type": "code",
   "execution_count": 19,
   "metadata": {
    "collapsed": false
   },
   "outputs": [
    {
     "name": "stdout",
     "output_type": "stream",
     "text": [
      "[ 3.  5.]\n"
     ]
    }
   ],
   "source": [
    "#TensorFlow不会自动生成默认的会话，需要手动指定。\n",
    "#可以通过tf.Tensor.eval函数计算一个张量的取值\n",
    "sess = tf.Session()\n",
    "with sess.as_default():\n",
    "    print(result.eval())"
   ]
  },
  {
   "cell_type": "code",
   "execution_count": 26,
   "metadata": {
    "collapsed": false
   },
   "outputs": [
    {
     "name": "stdout",
     "output_type": "stream",
     "text": [
      "[ 3.  5.]\n",
      "[ 3.  5.]\n"
     ]
    }
   ],
   "source": [
    "#这个代码也可以完成相同的功能。\n",
    "sess = tf.Session()\n",
    "#以下两条代码功能一样\n",
    "print(sess.run(result))\n",
    "print(result.eval(session= sess))\n",
    "sess.close()"
   ]
  },
  {
   "cell_type": "code",
   "execution_count": 27,
   "metadata": {
    "collapsed": false
   },
   "outputs": [
    {
     "name": "stdout",
     "output_type": "stream",
     "text": [
      "[ 3.  5.]\n"
     ]
    }
   ],
   "source": [
    "#交互式环境下，可以通过tf.InteractiveSession()函数设置默认会话\n",
    "sess = tf.InteractiveSession()\n",
    "print(result.eval())\n",
    "sess.close()"
   ]
  },
  {
   "cell_type": "markdown",
   "metadata": {},
   "source": [
    "## 通ConfigProtocol Protocol Buffer配置会话\n"
   ]
  },
  {
   "cell_type": "code",
   "execution_count": 28,
   "metadata": {
    "collapsed": true
   },
   "outputs": [],
   "source": [
    "config = tf.ConfigProto(allow_soft_placement=True,\\\n",
    "                       log_device_placement=True)\n",
    "sess1 = tf.InteractiveSession(config = config)\n",
    "sess2 = tf.Session(config = config)\n"
   ]
  },
  {
   "cell_type": "markdown",
   "metadata": {},
   "source": [
    "- allow_soft_placement:当它为True，满足某些条件，GPU运算可以放在CPU上进行。默认为False,一般设置为True.\n",
    "- log_device_placement：当它为True，日志中将会记录每个节点被安排在哪个设备以方便调试。False:可以减少日志量。"
   ]
  },
  {
   "cell_type": "code",
   "execution_count": null,
   "metadata": {
    "collapsed": true
   },
   "outputs": [],
   "source": []
  }
 ],
 "metadata": {
  "kernelspec": {
   "display_name": "Python 3",
   "language": "python",
   "name": "python3"
  },
  "language_info": {
   "codemirror_mode": {
    "name": "ipython",
    "version": 3
   },
   "file_extension": ".py",
   "mimetype": "text/x-python",
   "name": "python",
   "nbconvert_exporter": "python",
   "pygments_lexer": "ipython3",
   "version": "3.6.0"
  }
 },
 "nbformat": 4,
 "nbformat_minor": 2
}
